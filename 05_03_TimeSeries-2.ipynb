{
 "cells": [
  {
   "cell_type": "markdown",
   "metadata": {},
   "source": [
    "# Create a column of date time in a data frame\n",
    "\n",
    "Pandas does a pretty good job recognizing dates, but sometimes you need to tell it what to look for. This table shows some the code you can use to parse dates in Pandas."
   ]
  },
  {
   "cell_type": "markdown",
   "metadata": {},
   "source": [
    "Lets take the date : 26-10-1985, that is October 26, 1985. \n",
    "\n",
    "ref | refers to | for 26-10-1985: returns\n",
    "----|------------|-------\n",
    "%d  |day of the month. | %d returns 26.\n",
    "%m  |month of the year.| %m returns 10.\n",
    "%Y |year (*note the uppercase Y*) | %Y returns 1985.\n",
    "%y |year in two-digit format (*note the lowercase y*)| %y returns 85."
   ]
  },
  {
   "cell_type": "code",
   "execution_count": 5,
   "metadata": {},
   "outputs": [
    {
     "data": {
      "text/html": [
       "<div>\n",
       "<style scoped>\n",
       "    .dataframe tbody tr th:only-of-type {\n",
       "        vertical-align: middle;\n",
       "    }\n",
       "\n",
       "    .dataframe tbody tr th {\n",
       "        vertical-align: top;\n",
       "    }\n",
       "\n",
       "    .dataframe thead th {\n",
       "        text-align: right;\n",
       "    }\n",
       "</style>\n",
       "<table border=\"1\" class=\"dataframe\">\n",
       "  <thead>\n",
       "    <tr style=\"text-align: right;\">\n",
       "      <th></th>\n",
       "      <th>date1</th>\n",
       "      <th>date2</th>\n",
       "      <th>date3</th>\n",
       "      <th>date4</th>\n",
       "      <th>date5</th>\n",
       "      <th>date6</th>\n",
       "      <th>date7</th>\n",
       "    </tr>\n",
       "  </thead>\n",
       "  <tbody>\n",
       "    <tr>\n",
       "      <th>0</th>\n",
       "      <td>11/5/1955 6:00</td>\n",
       "      <td>5-Nov-55 06:00</td>\n",
       "      <td>Nov-55</td>\n",
       "      <td>11/5/1955</td>\n",
       "      <td>11/5/1955</td>\n",
       "      <td>Saturday, November 5, 1955</td>\n",
       "      <td>11/5/1955</td>\n",
       "    </tr>\n",
       "    <tr>\n",
       "      <th>1</th>\n",
       "      <td>11/6/1955 6:00</td>\n",
       "      <td>6-Nov-55 06:00</td>\n",
       "      <td>Nov-55</td>\n",
       "      <td>11/6/1955</td>\n",
       "      <td>11/6/1955</td>\n",
       "      <td>Sunday, November 6, 1955</td>\n",
       "      <td>11/6/1955</td>\n",
       "    </tr>\n",
       "    <tr>\n",
       "      <th>2</th>\n",
       "      <td>11/7/1955 6:00</td>\n",
       "      <td>7-Nov-55 06:00</td>\n",
       "      <td>Nov-55</td>\n",
       "      <td>11/7/1955</td>\n",
       "      <td>11/7/1955</td>\n",
       "      <td>Monday, November 7, 1955</td>\n",
       "      <td>11/7/1955</td>\n",
       "    </tr>\n",
       "    <tr>\n",
       "      <th>3</th>\n",
       "      <td>11/8/1955 6:00</td>\n",
       "      <td>8-Nov-55 06:00</td>\n",
       "      <td>Nov-55</td>\n",
       "      <td>11/8/1955</td>\n",
       "      <td>11/8/1955</td>\n",
       "      <td>Tuesday, November 8, 1955</td>\n",
       "      <td>11/8/1955</td>\n",
       "    </tr>\n",
       "    <tr>\n",
       "      <th>4</th>\n",
       "      <td>11/9/1955 6:00</td>\n",
       "      <td>9-Nov-55 06:00</td>\n",
       "      <td>Nov-55</td>\n",
       "      <td>11/9/1955</td>\n",
       "      <td>11/9/1955</td>\n",
       "      <td>Wednesday, November 9, 1955</td>\n",
       "      <td>11/9/1955</td>\n",
       "    </tr>\n",
       "    <tr>\n",
       "      <th>5</th>\n",
       "      <td>11/10/1955 6:00</td>\n",
       "      <td>10-Nov-55 06:00</td>\n",
       "      <td>Nov-55</td>\n",
       "      <td>11/10/1955</td>\n",
       "      <td>11/10/1955</td>\n",
       "      <td>Thursday, November 10, 1955</td>\n",
       "      <td>11/10/1955</td>\n",
       "    </tr>\n",
       "    <tr>\n",
       "      <th>6</th>\n",
       "      <td>11/11/1955 6:00</td>\n",
       "      <td>11-Nov-55 06:00</td>\n",
       "      <td>Nov-55</td>\n",
       "      <td>11/11/1955</td>\n",
       "      <td>11/11/1955</td>\n",
       "      <td>Friday, November 11, 1955</td>\n",
       "      <td>11/11/1955</td>\n",
       "    </tr>\n",
       "    <tr>\n",
       "      <th>7</th>\n",
       "      <td>11/12/1955 6:00</td>\n",
       "      <td>12-Nov-55 06:00</td>\n",
       "      <td>Nov-55</td>\n",
       "      <td>11/12/1955</td>\n",
       "      <td>11/12/1955</td>\n",
       "      <td>Saturday, November 12, 1955</td>\n",
       "      <td>11/12/1955</td>\n",
       "    </tr>\n",
       "  </tbody>\n",
       "</table>\n",
       "</div>"
      ],
      "text/plain": [
       "             date1            date2   date3       date4       date5  \\\n",
       "0   11/5/1955 6:00   5-Nov-55 06:00  Nov-55   11/5/1955   11/5/1955   \n",
       "1   11/6/1955 6:00   6-Nov-55 06:00  Nov-55   11/6/1955   11/6/1955   \n",
       "2   11/7/1955 6:00   7-Nov-55 06:00  Nov-55   11/7/1955   11/7/1955   \n",
       "3   11/8/1955 6:00   8-Nov-55 06:00  Nov-55   11/8/1955   11/8/1955   \n",
       "4   11/9/1955 6:00   9-Nov-55 06:00  Nov-55   11/9/1955   11/9/1955   \n",
       "5  11/10/1955 6:00  10-Nov-55 06:00  Nov-55  11/10/1955  11/10/1955   \n",
       "6  11/11/1955 6:00  11-Nov-55 06:00  Nov-55  11/11/1955  11/11/1955   \n",
       "7  11/12/1955 6:00  12-Nov-55 06:00  Nov-55  11/12/1955  11/12/1955   \n",
       "\n",
       "                         date6       date7  \n",
       "0   Saturday, November 5, 1955   11/5/1955  \n",
       "1     Sunday, November 6, 1955   11/6/1955  \n",
       "2     Monday, November 7, 1955   11/7/1955  \n",
       "3    Tuesday, November 8, 1955   11/8/1955  \n",
       "4  Wednesday, November 9, 1955   11/9/1955  \n",
       "5  Thursday, November 10, 1955  11/10/1955  \n",
       "6    Friday, November 11, 1955  11/11/1955  \n",
       "7  Saturday, November 12, 1955  11/12/1955  "
      ]
     },
     "execution_count": 5,
     "metadata": {},
     "output_type": "execute_result"
    }
   ],
   "source": [
    "path = \"../data/BunchOfDates.csv\"\n",
    "dat = pd.read_csv(path)\n",
    "dat.head(10)"
   ]
  },
  {
   "cell_type": "code",
   "execution_count": 6,
   "metadata": {},
   "outputs": [
    {
     "name": "stdout",
     "output_type": "stream",
     "text": [
      "<class 'pandas.core.frame.DataFrame'>\n",
      "RangeIndex: 8 entries, 0 to 7\n",
      "Data columns (total 7 columns):\n",
      " #   Column  Non-Null Count  Dtype \n",
      "---  ------  --------------  ----- \n",
      " 0   date1   8 non-null      object\n",
      " 1   date2   8 non-null      object\n",
      " 2   date3   8 non-null      object\n",
      " 3   date4   8 non-null      object\n",
      " 4   date5   8 non-null      object\n",
      " 5   date6   8 non-null      object\n",
      " 6   date7   8 non-null      object\n",
      "dtypes: object(7)\n",
      "memory usage: 576.0+ bytes\n"
     ]
    }
   ],
   "source": [
    "dat.info()"
   ]
  },
  {
   "cell_type": "code",
   "execution_count": 7,
   "metadata": {},
   "outputs": [
    {
     "data": {
      "text/plain": [
       "0   1955-11-05 06:00:00\n",
       "1   1955-11-06 06:00:00\n",
       "2   1955-11-07 06:00:00\n",
       "3   1955-11-08 06:00:00\n",
       "4   1955-11-09 06:00:00\n",
       "5   1955-11-10 06:00:00\n",
       "6   1955-11-11 06:00:00\n",
       "7   1955-11-12 06:00:00\n",
       "Name: date1, dtype: datetime64[ns]"
      ]
     },
     "execution_count": 7,
     "metadata": {},
     "output_type": "execute_result"
    }
   ],
   "source": [
    "dat['date1'] = pd.to_datetime(dat['date1'])\n",
    "dat['date1'] "
   ]
  },
  {
   "cell_type": "code",
   "execution_count": null,
   "metadata": {},
   "outputs": [],
   "source": [
    "dat.info()"
   ]
  },
  {
   "cell_type": "markdown",
   "metadata": {},
   "source": [
    "Let's imagine that date2 won't be read automagically (it will, we are pretending). To change that date string to a pandas date time we will tell pandas how it is organized."
   ]
  },
  {
   "cell_type": "code",
   "execution_count": null,
   "metadata": {},
   "outputs": [],
   "source": [
    "dat['date2']"
   ]
  },
  {
   "cell_type": "code",
   "execution_count": null,
   "metadata": {},
   "outputs": [],
   "source": [
    "# https://docs.python.org/3/library/datetime.html\n",
    "\n",
    "\n",
    "#oops\n",
    "#dat['date2_fixed'] = pd.to_datetime(dat['date2'], format='%m/%d/%Y %H:%M')\n",
    "\n",
    "#fix it\n",
    "dat['date2_fixed'] = pd.to_datetime(dat['date2'], format='%d-%b-%y %H:%M')"
   ]
  },
  {
   "cell_type": "code",
   "execution_count": null,
   "metadata": {},
   "outputs": [],
   "source": [
    "#first lets look at the date in that column.\n",
    "\n",
    "dat['date2'] = pd.to_datetime(dat['date2'])"
   ]
  },
  {
   "cell_type": "code",
   "execution_count": null,
   "metadata": {},
   "outputs": [],
   "source": [
    "dat.info()"
   ]
  },
  {
   "cell_type": "markdown",
   "metadata": {},
   "source": [
    "## Working with date data\n",
    "\n",
    "Let's move to a larger data set, with daily data. "
   ]
  },
  {
   "cell_type": "code",
   "execution_count": 6,
   "metadata": {},
   "outputs": [
    {
     "data": {
      "text/html": [
       "<div>\n",
       "<style scoped>\n",
       "    .dataframe tbody tr th:only-of-type {\n",
       "        vertical-align: middle;\n",
       "    }\n",
       "\n",
       "    .dataframe tbody tr th {\n",
       "        vertical-align: top;\n",
       "    }\n",
       "\n",
       "    .dataframe thead th {\n",
       "        text-align: right;\n",
       "    }\n",
       "</style>\n",
       "<table border=\"1\" class=\"dataframe\">\n",
       "  <thead>\n",
       "    <tr style=\"text-align: right;\">\n",
       "      <th></th>\n",
       "      <th>Date</th>\n",
       "      <th>Open</th>\n",
       "      <th>High</th>\n",
       "      <th>Low</th>\n",
       "      <th>Close</th>\n",
       "      <th>Adj Close</th>\n",
       "      <th>Volume</th>\n",
       "    </tr>\n",
       "  </thead>\n",
       "  <tbody>\n",
       "    <tr>\n",
       "      <th>0</th>\n",
       "      <td>2015-09-01</td>\n",
       "      <td>1970.089966</td>\n",
       "      <td>1970.089966</td>\n",
       "      <td>1903.069946</td>\n",
       "      <td>1913.849976</td>\n",
       "      <td>1913.849976</td>\n",
       "      <td>4371850000</td>\n",
       "    </tr>\n",
       "    <tr>\n",
       "      <th>1</th>\n",
       "      <td>2015-09-02</td>\n",
       "      <td>1916.520020</td>\n",
       "      <td>1948.910034</td>\n",
       "      <td>1916.520020</td>\n",
       "      <td>1948.859985</td>\n",
       "      <td>1948.859985</td>\n",
       "      <td>3742620000</td>\n",
       "    </tr>\n",
       "    <tr>\n",
       "      <th>2</th>\n",
       "      <td>2015-09-03</td>\n",
       "      <td>1950.790039</td>\n",
       "      <td>1975.010010</td>\n",
       "      <td>1944.719971</td>\n",
       "      <td>1951.130005</td>\n",
       "      <td>1951.130005</td>\n",
       "      <td>3520700000</td>\n",
       "    </tr>\n",
       "    <tr>\n",
       "      <th>3</th>\n",
       "      <td>2015-09-04</td>\n",
       "      <td>1947.760010</td>\n",
       "      <td>1947.760010</td>\n",
       "      <td>1911.209961</td>\n",
       "      <td>1921.219971</td>\n",
       "      <td>1921.219971</td>\n",
       "      <td>3167090000</td>\n",
       "    </tr>\n",
       "    <tr>\n",
       "      <th>4</th>\n",
       "      <td>2015-09-08</td>\n",
       "      <td>1927.300049</td>\n",
       "      <td>1970.420044</td>\n",
       "      <td>1927.300049</td>\n",
       "      <td>1969.410034</td>\n",
       "      <td>1969.410034</td>\n",
       "      <td>3548650000</td>\n",
       "    </tr>\n",
       "  </tbody>\n",
       "</table>\n",
       "</div>"
      ],
      "text/plain": [
       "        Date         Open         High          Low        Close    Adj Close  \\\n",
       "0 2015-09-01  1970.089966  1970.089966  1903.069946  1913.849976  1913.849976   \n",
       "1 2015-09-02  1916.520020  1948.910034  1916.520020  1948.859985  1948.859985   \n",
       "2 2015-09-03  1950.790039  1975.010010  1944.719971  1951.130005  1951.130005   \n",
       "3 2015-09-04  1947.760010  1947.760010  1911.209961  1921.219971  1921.219971   \n",
       "4 2015-09-08  1927.300049  1970.420044  1927.300049  1969.410034  1969.410034   \n",
       "\n",
       "       Volume  \n",
       "0  4371850000  \n",
       "1  3742620000  \n",
       "2  3520700000  \n",
       "3  3167090000  \n",
       "4  3548650000  "
      ]
     },
     "execution_count": 6,
     "metadata": {},
     "output_type": "execute_result"
    }
   ],
   "source": [
    "# load csv of \"GSPC\"(S&P) data\n",
    "# if the dates need to be adjusted, they can be parsed in here or as a later step... we will use a 2 step process. \n",
    "import pandas as pd\n",
    "import matplotlib.pyplot as plt\n",
    "\n",
    "path = \"C:/Users/JDavis/Dropbox/UFCOURSES/MAR4933/MAR4933Spring2021/content/notebooks/data/GSPC.csv\"\n",
    "sp = pd.read_csv(path)\n",
    "sp['Date'] = pd.to_datetime(sp['Date'])\n",
    "sp.head()"
   ]
  },
  {
   "cell_type": "code",
   "execution_count": null,
   "metadata": {},
   "outputs": [],
   "source": [
    "sp.describe()"
   ]
  },
  {
   "cell_type": "code",
   "execution_count": null,
   "metadata": {},
   "outputs": [],
   "source": [
    "sp['Date'].dt.day_name()"
   ]
  },
  {
   "cell_type": "code",
   "execution_count": null,
   "metadata": {},
   "outputs": [],
   "source": [
    "sp['Weekday'] = sp['Date'].dt.day_name()\n",
    "sp.head(10)"
   ]
  },
  {
   "cell_type": "code",
   "execution_count": null,
   "metadata": {},
   "outputs": [],
   "source": [
    "sp['Date'].max() - sp['Date'].min()"
   ]
  },
  {
   "cell_type": "code",
   "execution_count": null,
   "metadata": {},
   "outputs": [],
   "source": [
    "# Index the date\n",
    "sp.set_index('Date', inplace = True) \n"
   ]
  },
  {
   "cell_type": "code",
   "execution_count": null,
   "metadata": {},
   "outputs": [],
   "source": [
    "sp.info()\n",
    "sp.head()"
   ]
  },
  {
   "cell_type": "code",
   "execution_count": 8,
   "metadata": {},
   "outputs": [
    {
     "ename": "NameError",
     "evalue": "name 'sp' is not defined",
     "output_type": "error",
     "traceback": [
      "\u001b[1;31m---------------------------------------------------------------------------\u001b[0m",
      "\u001b[1;31mNameError\u001b[0m                                 Traceback (most recent call last)",
      "\u001b[1;32m<ipython-input-8-a702afaba4af>\u001b[0m in \u001b[0;36m<module>\u001b[1;34m\u001b[0m\n\u001b[1;32m----> 1\u001b[1;33m \u001b[0msp\u001b[0m\u001b[1;33m[\u001b[0m\u001b[1;34m'Close'\u001b[0m\u001b[1;33m]\u001b[0m\u001b[1;33m.\u001b[0m\u001b[0mresample\u001b[0m\u001b[1;33m(\u001b[0m\u001b[0mrule\u001b[0m \u001b[1;33m=\u001b[0m \u001b[1;34m'W'\u001b[0m\u001b[1;33m)\u001b[0m\u001b[1;33m.\u001b[0m\u001b[0mmean\u001b[0m\u001b[1;33m(\u001b[0m\u001b[1;33m)\u001b[0m\u001b[1;33m.\u001b[0m\u001b[0mplot\u001b[0m\u001b[1;33m(\u001b[0m\u001b[0mkind\u001b[0m \u001b[1;33m=\u001b[0m \u001b[1;34m'bar'\u001b[0m\u001b[1;33m,\u001b[0m \u001b[0mfigsize\u001b[0m \u001b[1;33m=\u001b[0m \u001b[1;33m(\u001b[0m\u001b[1;36m15\u001b[0m\u001b[1;33m,\u001b[0m\u001b[1;36m5\u001b[0m\u001b[1;33m)\u001b[0m\u001b[1;33m)\u001b[0m\u001b[1;33m\u001b[0m\u001b[1;33m\u001b[0m\u001b[0m\n\u001b[0m\u001b[0;32m      2\u001b[0m \u001b[0mplt\u001b[0m\u001b[1;33m.\u001b[0m\u001b[0mtitle\u001b[0m\u001b[1;33m(\u001b[0m\u001b[1;34m'Weekly mean close price for S&P'\u001b[0m\u001b[1;33m)\u001b[0m\u001b[1;33m\u001b[0m\u001b[1;33m\u001b[0m\u001b[0m\n",
      "\u001b[1;31mNameError\u001b[0m: name 'sp' is not defined"
     ]
    }
   ],
   "source": [
    "sp['Close'].resample(rule = 'W').mean().plot(kind = 'bar', figsize = (15,5))\n",
    "plt.title('Weekly mean close price for S&P')"
   ]
  },
  {
   "cell_type": "code",
   "execution_count": 9,
   "metadata": {},
   "outputs": [
    {
     "ename": "NameError",
     "evalue": "name 'sp' is not defined",
     "output_type": "error",
     "traceback": [
      "\u001b[1;31m---------------------------------------------------------------------------\u001b[0m",
      "\u001b[1;31mNameError\u001b[0m                                 Traceback (most recent call last)",
      "\u001b[1;32m<ipython-input-9-ebdbb9273f10>\u001b[0m in \u001b[0;36m<module>\u001b[1;34m\u001b[0m\n\u001b[1;32m----> 1\u001b[1;33m \u001b[0msp\u001b[0m\u001b[1;33m[\u001b[0m\u001b[1;34m'Close'\u001b[0m\u001b[1;33m]\u001b[0m\u001b[1;33m.\u001b[0m\u001b[0mresample\u001b[0m\u001b[1;33m(\u001b[0m\u001b[0mrule\u001b[0m \u001b[1;33m=\u001b[0m \u001b[1;34m'W'\u001b[0m\u001b[1;33m)\u001b[0m\u001b[1;33m.\u001b[0m\u001b[0mmean\u001b[0m\u001b[1;33m(\u001b[0m\u001b[1;33m)\u001b[0m\u001b[1;33m.\u001b[0m\u001b[0mplot\u001b[0m\u001b[1;33m(\u001b[0m\u001b[0mkind\u001b[0m \u001b[1;33m=\u001b[0m \u001b[1;34m'line'\u001b[0m\u001b[1;33m,\u001b[0m \u001b[0mfigsize\u001b[0m \u001b[1;33m=\u001b[0m \u001b[1;33m(\u001b[0m\u001b[1;36m15\u001b[0m\u001b[1;33m,\u001b[0m\u001b[1;36m5\u001b[0m\u001b[1;33m)\u001b[0m\u001b[1;33m)\u001b[0m\u001b[1;33m\u001b[0m\u001b[1;33m\u001b[0m\u001b[0m\n\u001b[0m",
      "\u001b[1;31mNameError\u001b[0m: name 'sp' is not defined"
     ]
    }
   ],
   "source": [
    "sp['Close'].resample(rule = 'W').mean().plot(kind = 'line', figsize = (15,5))\n"
   ]
  },
  {
   "cell_type": "markdown",
   "metadata": {},
   "source": [
    "### Selecting dates\n",
    "\n",
    "Our date time is NOT an index right now..\n"
   ]
  },
  {
   "cell_type": "code",
   "execution_count": null,
   "metadata": {},
   "outputs": [],
   "source": [
    "path = \"../data/GSPC.csv\"\n",
    "sp = pd.read_csv(path)\n",
    "\n",
    "\n",
    "sp['Date'] = pd.to_datetime(sp['Date'])\n",
    "sp.head()\n",
    "\n"
   ]
  },
  {
   "cell_type": "code",
   "execution_count": null,
   "metadata": {},
   "outputs": [],
   "source": [
    "filter_sp = (sp['Date'] >= '2018')\n",
    "sp.loc[filter_sp]"
   ]
  },
  {
   "cell_type": "code",
   "execution_count": null,
   "metadata": {},
   "outputs": [],
   "source": [
    "filter_sp = (sp['Date'] >= '2018') & (sp['Date'] < '2019')\n",
    "sp.loc[filter_sp]"
   ]
  },
  {
   "cell_type": "code",
   "execution_count": null,
   "metadata": {},
   "outputs": [],
   "source": [
    "filter_sp = (sp['Date'] == '2018-12-27') \n",
    "sp.loc[filter_sp]"
   ]
  },
  {
   "cell_type": "markdown",
   "metadata": {},
   "source": [
    "So that is selecting when Date is not an index... if you've indexed date the procedure is just as straightforward. Instead of using .loc, you can just use a slice on the index. "
   ]
  },
  {
   "cell_type": "code",
   "execution_count": null,
   "metadata": {},
   "outputs": [],
   "source": [
    "sp.set_index('Date', inplace = True) \n",
    "\n",
    "sp['2018-01':'2018-12']"
   ]
  },
  {
   "cell_type": "markdown",
   "metadata": {},
   "source": [
    "Altertnative to going back and forth on the index\n"
   ]
  },
  {
   "cell_type": "code",
   "execution_count": null,
   "metadata": {},
   "outputs": [],
   "source": [
    "path = \"../data/GSPC.csv\"\n",
    "sp = pd.read_csv(path)\n",
    "sp.head()\n",
    "sp['Date'] = pd.to_datetime(sp['Date'])\n"
   ]
  },
  {
   "cell_type": "code",
   "execution_count": null,
   "metadata": {},
   "outputs": [],
   "source": [
    "sp.set_index('Date', drop = False, inplace = True) \n",
    "sp"
   ]
  },
  {
   "cell_type": "markdown",
   "metadata": {},
   "source": [
    "## Moving time\n",
    "\n",
    "Indexed time series can be shifted along the index. For example, maybe we want to move the entire index by some small amount. This is easier to demonstrate with a small sample, so the below subset our data frame. \n",
    "\n"
   ]
  },
  {
   "cell_type": "code",
   "execution_count": 40,
   "metadata": {},
   "outputs": [],
   "source": [
    "#the DateTimeIndex has some nice properties, it is easier to subset for one!\n",
    "\n",
    "example = sp.loc['2020-07-01':'2020-07-10', [ 'Open', 'Close']]\n",
    "example.head(10)\n",
    "raw = sp.loc['2020-07-01':'2020-07-10', [ 'Open', 'Close']]\n"
   ]
  },
  {
   "cell_type": "code",
   "execution_count": 45,
   "metadata": {},
   "outputs": [],
   "source": [
    "from IPython.display import display_html\n",
    "def sidetable(x1, x2):\n",
    "    dfleft = x1.style.set_table_attributes(\"style='display:inline'\").set_caption('Adjusted')\n",
    "    dfright = x2.style.set_table_attributes(\"style='display:inline'\").set_caption('Original')\n",
    "    return display_html(dfleft._repr_html_() + dfright._repr_html_(), raw = True)"
   ]
  },
  {
   "cell_type": "code",
   "execution_count": 46,
   "metadata": {},
   "outputs": [
    {
     "data": {
      "text/html": [
       "<style  type=\"text/css\" >\n",
       "</style><table id=\"T_a965d0b4_f05e_11ea_a2fd_c0b8831fbd2e\" style='display:inline'><caption>Adjusted</caption><thead>    <tr>        <th class=\"blank level0\" ></th>        <th class=\"col_heading level0 col0\" >Open</th>        <th class=\"col_heading level0 col1\" >Close</th>    </tr>    <tr>        <th class=\"index_name level0\" >Date</th>        <th class=\"blank\" ></th>        <th class=\"blank\" ></th>    </tr></thead><tbody>\n",
       "                <tr>\n",
       "                        <th id=\"T_a965d0b4_f05e_11ea_a2fd_c0b8831fbd2elevel0_row0\" class=\"row_heading level0 row0\" >2020-07-01 00:00:00</th>\n",
       "                        <td id=\"T_a965d0b4_f05e_11ea_a2fd_c0b8831fbd2erow0_col0\" class=\"data row0 col0\" >3105.919922</td>\n",
       "                        <td id=\"T_a965d0b4_f05e_11ea_a2fd_c0b8831fbd2erow0_col1\" class=\"data row0 col1\" >3115.860107</td>\n",
       "            </tr>\n",
       "            <tr>\n",
       "                        <th id=\"T_a965d0b4_f05e_11ea_a2fd_c0b8831fbd2elevel0_row1\" class=\"row_heading level0 row1\" >2020-07-02 00:00:00</th>\n",
       "                        <td id=\"T_a965d0b4_f05e_11ea_a2fd_c0b8831fbd2erow1_col0\" class=\"data row1 col0\" >3143.639893</td>\n",
       "                        <td id=\"T_a965d0b4_f05e_11ea_a2fd_c0b8831fbd2erow1_col1\" class=\"data row1 col1\" >3130.010010</td>\n",
       "            </tr>\n",
       "            <tr>\n",
       "                        <th id=\"T_a965d0b4_f05e_11ea_a2fd_c0b8831fbd2elevel0_row2\" class=\"row_heading level0 row2\" >2020-07-06 00:00:00</th>\n",
       "                        <td id=\"T_a965d0b4_f05e_11ea_a2fd_c0b8831fbd2erow2_col0\" class=\"data row2 col0\" >3155.290039</td>\n",
       "                        <td id=\"T_a965d0b4_f05e_11ea_a2fd_c0b8831fbd2erow2_col1\" class=\"data row2 col1\" >3179.719971</td>\n",
       "            </tr>\n",
       "            <tr>\n",
       "                        <th id=\"T_a965d0b4_f05e_11ea_a2fd_c0b8831fbd2elevel0_row3\" class=\"row_heading level0 row3\" >2020-07-07 00:00:00</th>\n",
       "                        <td id=\"T_a965d0b4_f05e_11ea_a2fd_c0b8831fbd2erow3_col0\" class=\"data row3 col0\" >3166.439941</td>\n",
       "                        <td id=\"T_a965d0b4_f05e_11ea_a2fd_c0b8831fbd2erow3_col1\" class=\"data row3 col1\" >3145.320068</td>\n",
       "            </tr>\n",
       "            <tr>\n",
       "                        <th id=\"T_a965d0b4_f05e_11ea_a2fd_c0b8831fbd2elevel0_row4\" class=\"row_heading level0 row4\" >2020-07-08 00:00:00</th>\n",
       "                        <td id=\"T_a965d0b4_f05e_11ea_a2fd_c0b8831fbd2erow4_col0\" class=\"data row4 col0\" >3153.070068</td>\n",
       "                        <td id=\"T_a965d0b4_f05e_11ea_a2fd_c0b8831fbd2erow4_col1\" class=\"data row4 col1\" >3169.939941</td>\n",
       "            </tr>\n",
       "            <tr>\n",
       "                        <th id=\"T_a965d0b4_f05e_11ea_a2fd_c0b8831fbd2elevel0_row5\" class=\"row_heading level0 row5\" >2020-07-09 00:00:00</th>\n",
       "                        <td id=\"T_a965d0b4_f05e_11ea_a2fd_c0b8831fbd2erow5_col0\" class=\"data row5 col0\" >3176.169922</td>\n",
       "                        <td id=\"T_a965d0b4_f05e_11ea_a2fd_c0b8831fbd2erow5_col1\" class=\"data row5 col1\" >3152.050049</td>\n",
       "            </tr>\n",
       "            <tr>\n",
       "                        <th id=\"T_a965d0b4_f05e_11ea_a2fd_c0b8831fbd2elevel0_row6\" class=\"row_heading level0 row6\" >2020-07-10 00:00:00</th>\n",
       "                        <td id=\"T_a965d0b4_f05e_11ea_a2fd_c0b8831fbd2erow6_col0\" class=\"data row6 col0\" >3152.469971</td>\n",
       "                        <td id=\"T_a965d0b4_f05e_11ea_a2fd_c0b8831fbd2erow6_col1\" class=\"data row6 col1\" >3185.040039</td>\n",
       "            </tr>\n",
       "    </tbody></table><style  type=\"text/css\" >\n",
       "</style><table id=\"T_a96645e4_f05e_11ea_80ee_c0b8831fbd2e\" style='display:inline'><caption>Original</caption><thead>    <tr>        <th class=\"blank level0\" ></th>        <th class=\"col_heading level0 col0\" >Open</th>        <th class=\"col_heading level0 col1\" >Close</th>    </tr>    <tr>        <th class=\"index_name level0\" >Date</th>        <th class=\"blank\" ></th>        <th class=\"blank\" ></th>    </tr></thead><tbody>\n",
       "                <tr>\n",
       "                        <th id=\"T_a96645e4_f05e_11ea_80ee_c0b8831fbd2elevel0_row0\" class=\"row_heading level0 row0\" >2020-07-01 00:00:00</th>\n",
       "                        <td id=\"T_a96645e4_f05e_11ea_80ee_c0b8831fbd2erow0_col0\" class=\"data row0 col0\" >3105.919922</td>\n",
       "                        <td id=\"T_a96645e4_f05e_11ea_80ee_c0b8831fbd2erow0_col1\" class=\"data row0 col1\" >3115.860107</td>\n",
       "            </tr>\n",
       "            <tr>\n",
       "                        <th id=\"T_a96645e4_f05e_11ea_80ee_c0b8831fbd2elevel0_row1\" class=\"row_heading level0 row1\" >2020-07-02 00:00:00</th>\n",
       "                        <td id=\"T_a96645e4_f05e_11ea_80ee_c0b8831fbd2erow1_col0\" class=\"data row1 col0\" >3143.639893</td>\n",
       "                        <td id=\"T_a96645e4_f05e_11ea_80ee_c0b8831fbd2erow1_col1\" class=\"data row1 col1\" >3130.010010</td>\n",
       "            </tr>\n",
       "            <tr>\n",
       "                        <th id=\"T_a96645e4_f05e_11ea_80ee_c0b8831fbd2elevel0_row2\" class=\"row_heading level0 row2\" >2020-07-06 00:00:00</th>\n",
       "                        <td id=\"T_a96645e4_f05e_11ea_80ee_c0b8831fbd2erow2_col0\" class=\"data row2 col0\" >3155.290039</td>\n",
       "                        <td id=\"T_a96645e4_f05e_11ea_80ee_c0b8831fbd2erow2_col1\" class=\"data row2 col1\" >3179.719971</td>\n",
       "            </tr>\n",
       "            <tr>\n",
       "                        <th id=\"T_a96645e4_f05e_11ea_80ee_c0b8831fbd2elevel0_row3\" class=\"row_heading level0 row3\" >2020-07-07 00:00:00</th>\n",
       "                        <td id=\"T_a96645e4_f05e_11ea_80ee_c0b8831fbd2erow3_col0\" class=\"data row3 col0\" >3166.439941</td>\n",
       "                        <td id=\"T_a96645e4_f05e_11ea_80ee_c0b8831fbd2erow3_col1\" class=\"data row3 col1\" >3145.320068</td>\n",
       "            </tr>\n",
       "            <tr>\n",
       "                        <th id=\"T_a96645e4_f05e_11ea_80ee_c0b8831fbd2elevel0_row4\" class=\"row_heading level0 row4\" >2020-07-08 00:00:00</th>\n",
       "                        <td id=\"T_a96645e4_f05e_11ea_80ee_c0b8831fbd2erow4_col0\" class=\"data row4 col0\" >3153.070068</td>\n",
       "                        <td id=\"T_a96645e4_f05e_11ea_80ee_c0b8831fbd2erow4_col1\" class=\"data row4 col1\" >3169.939941</td>\n",
       "            </tr>\n",
       "            <tr>\n",
       "                        <th id=\"T_a96645e4_f05e_11ea_80ee_c0b8831fbd2elevel0_row5\" class=\"row_heading level0 row5\" >2020-07-09 00:00:00</th>\n",
       "                        <td id=\"T_a96645e4_f05e_11ea_80ee_c0b8831fbd2erow5_col0\" class=\"data row5 col0\" >3176.169922</td>\n",
       "                        <td id=\"T_a96645e4_f05e_11ea_80ee_c0b8831fbd2erow5_col1\" class=\"data row5 col1\" >3152.050049</td>\n",
       "            </tr>\n",
       "            <tr>\n",
       "                        <th id=\"T_a96645e4_f05e_11ea_80ee_c0b8831fbd2elevel0_row6\" class=\"row_heading level0 row6\" >2020-07-10 00:00:00</th>\n",
       "                        <td id=\"T_a96645e4_f05e_11ea_80ee_c0b8831fbd2erow6_col0\" class=\"data row6 col0\" >3152.469971</td>\n",
       "                        <td id=\"T_a96645e4_f05e_11ea_80ee_c0b8831fbd2erow6_col1\" class=\"data row6 col1\" >3185.040039</td>\n",
       "            </tr>\n",
       "    </tbody></table>"
      ]
     },
     "metadata": {},
     "output_type": "display_data"
    }
   ],
   "source": [
    "sidetable(example, raw)"
   ]
  },
  {
   "cell_type": "markdown",
   "metadata": {},
   "source": [
    "### Moving back in time\n"
   ]
  },
  {
   "cell_type": "code",
   "execution_count": 49,
   "metadata": {},
   "outputs": [],
   "source": [
    "back = example.shift(-1)"
   ]
  },
  {
   "cell_type": "code",
   "execution_count": 50,
   "metadata": {},
   "outputs": [
    {
     "data": {
      "text/html": [
       "<style  type=\"text/css\" >\n",
       "</style><table id=\"T_dbda2b68_f05e_11ea_83e3_c0b8831fbd2e\" style='display:inline'><caption>Adjusted</caption><thead>    <tr>        <th class=\"blank level0\" ></th>        <th class=\"col_heading level0 col0\" >Open</th>        <th class=\"col_heading level0 col1\" >Close</th>    </tr>    <tr>        <th class=\"index_name level0\" >Date</th>        <th class=\"blank\" ></th>        <th class=\"blank\" ></th>    </tr></thead><tbody>\n",
       "                <tr>\n",
       "                        <th id=\"T_dbda2b68_f05e_11ea_83e3_c0b8831fbd2elevel0_row0\" class=\"row_heading level0 row0\" >2020-07-01 00:00:00</th>\n",
       "                        <td id=\"T_dbda2b68_f05e_11ea_83e3_c0b8831fbd2erow0_col0\" class=\"data row0 col0\" >3143.639893</td>\n",
       "                        <td id=\"T_dbda2b68_f05e_11ea_83e3_c0b8831fbd2erow0_col1\" class=\"data row0 col1\" >3130.010010</td>\n",
       "            </tr>\n",
       "            <tr>\n",
       "                        <th id=\"T_dbda2b68_f05e_11ea_83e3_c0b8831fbd2elevel0_row1\" class=\"row_heading level0 row1\" >2020-07-02 00:00:00</th>\n",
       "                        <td id=\"T_dbda2b68_f05e_11ea_83e3_c0b8831fbd2erow1_col0\" class=\"data row1 col0\" >3155.290039</td>\n",
       "                        <td id=\"T_dbda2b68_f05e_11ea_83e3_c0b8831fbd2erow1_col1\" class=\"data row1 col1\" >3179.719971</td>\n",
       "            </tr>\n",
       "            <tr>\n",
       "                        <th id=\"T_dbda2b68_f05e_11ea_83e3_c0b8831fbd2elevel0_row2\" class=\"row_heading level0 row2\" >2020-07-06 00:00:00</th>\n",
       "                        <td id=\"T_dbda2b68_f05e_11ea_83e3_c0b8831fbd2erow2_col0\" class=\"data row2 col0\" >3166.439941</td>\n",
       "                        <td id=\"T_dbda2b68_f05e_11ea_83e3_c0b8831fbd2erow2_col1\" class=\"data row2 col1\" >3145.320068</td>\n",
       "            </tr>\n",
       "            <tr>\n",
       "                        <th id=\"T_dbda2b68_f05e_11ea_83e3_c0b8831fbd2elevel0_row3\" class=\"row_heading level0 row3\" >2020-07-07 00:00:00</th>\n",
       "                        <td id=\"T_dbda2b68_f05e_11ea_83e3_c0b8831fbd2erow3_col0\" class=\"data row3 col0\" >3153.070068</td>\n",
       "                        <td id=\"T_dbda2b68_f05e_11ea_83e3_c0b8831fbd2erow3_col1\" class=\"data row3 col1\" >3169.939941</td>\n",
       "            </tr>\n",
       "            <tr>\n",
       "                        <th id=\"T_dbda2b68_f05e_11ea_83e3_c0b8831fbd2elevel0_row4\" class=\"row_heading level0 row4\" >2020-07-08 00:00:00</th>\n",
       "                        <td id=\"T_dbda2b68_f05e_11ea_83e3_c0b8831fbd2erow4_col0\" class=\"data row4 col0\" >3176.169922</td>\n",
       "                        <td id=\"T_dbda2b68_f05e_11ea_83e3_c0b8831fbd2erow4_col1\" class=\"data row4 col1\" >3152.050049</td>\n",
       "            </tr>\n",
       "            <tr>\n",
       "                        <th id=\"T_dbda2b68_f05e_11ea_83e3_c0b8831fbd2elevel0_row5\" class=\"row_heading level0 row5\" >2020-07-09 00:00:00</th>\n",
       "                        <td id=\"T_dbda2b68_f05e_11ea_83e3_c0b8831fbd2erow5_col0\" class=\"data row5 col0\" >3152.469971</td>\n",
       "                        <td id=\"T_dbda2b68_f05e_11ea_83e3_c0b8831fbd2erow5_col1\" class=\"data row5 col1\" >3185.040039</td>\n",
       "            </tr>\n",
       "            <tr>\n",
       "                        <th id=\"T_dbda2b68_f05e_11ea_83e3_c0b8831fbd2elevel0_row6\" class=\"row_heading level0 row6\" >2020-07-10 00:00:00</th>\n",
       "                        <td id=\"T_dbda2b68_f05e_11ea_83e3_c0b8831fbd2erow6_col0\" class=\"data row6 col0\" >nan</td>\n",
       "                        <td id=\"T_dbda2b68_f05e_11ea_83e3_c0b8831fbd2erow6_col1\" class=\"data row6 col1\" >nan</td>\n",
       "            </tr>\n",
       "    </tbody></table><style  type=\"text/css\" >\n",
       "</style><table id=\"T_dbda7990_f05e_11ea_b37a_c0b8831fbd2e\" style='display:inline'><caption>Original</caption><thead>    <tr>        <th class=\"blank level0\" ></th>        <th class=\"col_heading level0 col0\" >Open</th>        <th class=\"col_heading level0 col1\" >Close</th>    </tr>    <tr>        <th class=\"index_name level0\" >Date</th>        <th class=\"blank\" ></th>        <th class=\"blank\" ></th>    </tr></thead><tbody>\n",
       "                <tr>\n",
       "                        <th id=\"T_dbda7990_f05e_11ea_b37a_c0b8831fbd2elevel0_row0\" class=\"row_heading level0 row0\" >2020-07-01 00:00:00</th>\n",
       "                        <td id=\"T_dbda7990_f05e_11ea_b37a_c0b8831fbd2erow0_col0\" class=\"data row0 col0\" >3105.919922</td>\n",
       "                        <td id=\"T_dbda7990_f05e_11ea_b37a_c0b8831fbd2erow0_col1\" class=\"data row0 col1\" >3115.860107</td>\n",
       "            </tr>\n",
       "            <tr>\n",
       "                        <th id=\"T_dbda7990_f05e_11ea_b37a_c0b8831fbd2elevel0_row1\" class=\"row_heading level0 row1\" >2020-07-02 00:00:00</th>\n",
       "                        <td id=\"T_dbda7990_f05e_11ea_b37a_c0b8831fbd2erow1_col0\" class=\"data row1 col0\" >3143.639893</td>\n",
       "                        <td id=\"T_dbda7990_f05e_11ea_b37a_c0b8831fbd2erow1_col1\" class=\"data row1 col1\" >3130.010010</td>\n",
       "            </tr>\n",
       "            <tr>\n",
       "                        <th id=\"T_dbda7990_f05e_11ea_b37a_c0b8831fbd2elevel0_row2\" class=\"row_heading level0 row2\" >2020-07-06 00:00:00</th>\n",
       "                        <td id=\"T_dbda7990_f05e_11ea_b37a_c0b8831fbd2erow2_col0\" class=\"data row2 col0\" >3155.290039</td>\n",
       "                        <td id=\"T_dbda7990_f05e_11ea_b37a_c0b8831fbd2erow2_col1\" class=\"data row2 col1\" >3179.719971</td>\n",
       "            </tr>\n",
       "            <tr>\n",
       "                        <th id=\"T_dbda7990_f05e_11ea_b37a_c0b8831fbd2elevel0_row3\" class=\"row_heading level0 row3\" >2020-07-07 00:00:00</th>\n",
       "                        <td id=\"T_dbda7990_f05e_11ea_b37a_c0b8831fbd2erow3_col0\" class=\"data row3 col0\" >3166.439941</td>\n",
       "                        <td id=\"T_dbda7990_f05e_11ea_b37a_c0b8831fbd2erow3_col1\" class=\"data row3 col1\" >3145.320068</td>\n",
       "            </tr>\n",
       "            <tr>\n",
       "                        <th id=\"T_dbda7990_f05e_11ea_b37a_c0b8831fbd2elevel0_row4\" class=\"row_heading level0 row4\" >2020-07-08 00:00:00</th>\n",
       "                        <td id=\"T_dbda7990_f05e_11ea_b37a_c0b8831fbd2erow4_col0\" class=\"data row4 col0\" >3153.070068</td>\n",
       "                        <td id=\"T_dbda7990_f05e_11ea_b37a_c0b8831fbd2erow4_col1\" class=\"data row4 col1\" >3169.939941</td>\n",
       "            </tr>\n",
       "            <tr>\n",
       "                        <th id=\"T_dbda7990_f05e_11ea_b37a_c0b8831fbd2elevel0_row5\" class=\"row_heading level0 row5\" >2020-07-09 00:00:00</th>\n",
       "                        <td id=\"T_dbda7990_f05e_11ea_b37a_c0b8831fbd2erow5_col0\" class=\"data row5 col0\" >3176.169922</td>\n",
       "                        <td id=\"T_dbda7990_f05e_11ea_b37a_c0b8831fbd2erow5_col1\" class=\"data row5 col1\" >3152.050049</td>\n",
       "            </tr>\n",
       "            <tr>\n",
       "                        <th id=\"T_dbda7990_f05e_11ea_b37a_c0b8831fbd2elevel0_row6\" class=\"row_heading level0 row6\" >2020-07-10 00:00:00</th>\n",
       "                        <td id=\"T_dbda7990_f05e_11ea_b37a_c0b8831fbd2erow6_col0\" class=\"data row6 col0\" >3152.469971</td>\n",
       "                        <td id=\"T_dbda7990_f05e_11ea_b37a_c0b8831fbd2erow6_col1\" class=\"data row6 col1\" >3185.040039</td>\n",
       "            </tr>\n",
       "    </tbody></table>"
      ]
     },
     "metadata": {},
     "output_type": "display_data"
    }
   ],
   "source": [
    "sidetable(back, raw)"
   ]
  },
  {
   "cell_type": "markdown",
   "metadata": {},
   "source": [
    "### Moving forward in time"
   ]
  },
  {
   "cell_type": "code",
   "execution_count": 51,
   "metadata": {},
   "outputs": [
    {
     "data": {
      "text/html": [
       "<style  type=\"text/css\" >\n",
       "</style><table id=\"T_fac98bb4_f05e_11ea_a0cd_c0b8831fbd2e\" style='display:inline'><caption>Adjusted</caption><thead>    <tr>        <th class=\"blank level0\" ></th>        <th class=\"col_heading level0 col0\" >Open</th>        <th class=\"col_heading level0 col1\" >Close</th>    </tr>    <tr>        <th class=\"index_name level0\" >Date</th>        <th class=\"blank\" ></th>        <th class=\"blank\" ></th>    </tr></thead><tbody>\n",
       "                <tr>\n",
       "                        <th id=\"T_fac98bb4_f05e_11ea_a0cd_c0b8831fbd2elevel0_row0\" class=\"row_heading level0 row0\" >2020-07-01 00:00:00</th>\n",
       "                        <td id=\"T_fac98bb4_f05e_11ea_a0cd_c0b8831fbd2erow0_col0\" class=\"data row0 col0\" >nan</td>\n",
       "                        <td id=\"T_fac98bb4_f05e_11ea_a0cd_c0b8831fbd2erow0_col1\" class=\"data row0 col1\" >nan</td>\n",
       "            </tr>\n",
       "            <tr>\n",
       "                        <th id=\"T_fac98bb4_f05e_11ea_a0cd_c0b8831fbd2elevel0_row1\" class=\"row_heading level0 row1\" >2020-07-02 00:00:00</th>\n",
       "                        <td id=\"T_fac98bb4_f05e_11ea_a0cd_c0b8831fbd2erow1_col0\" class=\"data row1 col0\" >3105.919922</td>\n",
       "                        <td id=\"T_fac98bb4_f05e_11ea_a0cd_c0b8831fbd2erow1_col1\" class=\"data row1 col1\" >3115.860107</td>\n",
       "            </tr>\n",
       "            <tr>\n",
       "                        <th id=\"T_fac98bb4_f05e_11ea_a0cd_c0b8831fbd2elevel0_row2\" class=\"row_heading level0 row2\" >2020-07-06 00:00:00</th>\n",
       "                        <td id=\"T_fac98bb4_f05e_11ea_a0cd_c0b8831fbd2erow2_col0\" class=\"data row2 col0\" >3143.639893</td>\n",
       "                        <td id=\"T_fac98bb4_f05e_11ea_a0cd_c0b8831fbd2erow2_col1\" class=\"data row2 col1\" >3130.010010</td>\n",
       "            </tr>\n",
       "            <tr>\n",
       "                        <th id=\"T_fac98bb4_f05e_11ea_a0cd_c0b8831fbd2elevel0_row3\" class=\"row_heading level0 row3\" >2020-07-07 00:00:00</th>\n",
       "                        <td id=\"T_fac98bb4_f05e_11ea_a0cd_c0b8831fbd2erow3_col0\" class=\"data row3 col0\" >3155.290039</td>\n",
       "                        <td id=\"T_fac98bb4_f05e_11ea_a0cd_c0b8831fbd2erow3_col1\" class=\"data row3 col1\" >3179.719971</td>\n",
       "            </tr>\n",
       "            <tr>\n",
       "                        <th id=\"T_fac98bb4_f05e_11ea_a0cd_c0b8831fbd2elevel0_row4\" class=\"row_heading level0 row4\" >2020-07-08 00:00:00</th>\n",
       "                        <td id=\"T_fac98bb4_f05e_11ea_a0cd_c0b8831fbd2erow4_col0\" class=\"data row4 col0\" >3166.439941</td>\n",
       "                        <td id=\"T_fac98bb4_f05e_11ea_a0cd_c0b8831fbd2erow4_col1\" class=\"data row4 col1\" >3145.320068</td>\n",
       "            </tr>\n",
       "            <tr>\n",
       "                        <th id=\"T_fac98bb4_f05e_11ea_a0cd_c0b8831fbd2elevel0_row5\" class=\"row_heading level0 row5\" >2020-07-09 00:00:00</th>\n",
       "                        <td id=\"T_fac98bb4_f05e_11ea_a0cd_c0b8831fbd2erow5_col0\" class=\"data row5 col0\" >3153.070068</td>\n",
       "                        <td id=\"T_fac98bb4_f05e_11ea_a0cd_c0b8831fbd2erow5_col1\" class=\"data row5 col1\" >3169.939941</td>\n",
       "            </tr>\n",
       "            <tr>\n",
       "                        <th id=\"T_fac98bb4_f05e_11ea_a0cd_c0b8831fbd2elevel0_row6\" class=\"row_heading level0 row6\" >2020-07-10 00:00:00</th>\n",
       "                        <td id=\"T_fac98bb4_f05e_11ea_a0cd_c0b8831fbd2erow6_col0\" class=\"data row6 col0\" >3176.169922</td>\n",
       "                        <td id=\"T_fac98bb4_f05e_11ea_a0cd_c0b8831fbd2erow6_col1\" class=\"data row6 col1\" >3152.050049</td>\n",
       "            </tr>\n",
       "    </tbody></table><style  type=\"text/css\" >\n",
       "</style><table id=\"T_fac9b2c6_f05e_11ea_b37b_c0b8831fbd2e\" style='display:inline'><caption>Original</caption><thead>    <tr>        <th class=\"blank level0\" ></th>        <th class=\"col_heading level0 col0\" >Open</th>        <th class=\"col_heading level0 col1\" >Close</th>    </tr>    <tr>        <th class=\"index_name level0\" >Date</th>        <th class=\"blank\" ></th>        <th class=\"blank\" ></th>    </tr></thead><tbody>\n",
       "                <tr>\n",
       "                        <th id=\"T_fac9b2c6_f05e_11ea_b37b_c0b8831fbd2elevel0_row0\" class=\"row_heading level0 row0\" >2020-07-01 00:00:00</th>\n",
       "                        <td id=\"T_fac9b2c6_f05e_11ea_b37b_c0b8831fbd2erow0_col0\" class=\"data row0 col0\" >3105.919922</td>\n",
       "                        <td id=\"T_fac9b2c6_f05e_11ea_b37b_c0b8831fbd2erow0_col1\" class=\"data row0 col1\" >3115.860107</td>\n",
       "            </tr>\n",
       "            <tr>\n",
       "                        <th id=\"T_fac9b2c6_f05e_11ea_b37b_c0b8831fbd2elevel0_row1\" class=\"row_heading level0 row1\" >2020-07-02 00:00:00</th>\n",
       "                        <td id=\"T_fac9b2c6_f05e_11ea_b37b_c0b8831fbd2erow1_col0\" class=\"data row1 col0\" >3143.639893</td>\n",
       "                        <td id=\"T_fac9b2c6_f05e_11ea_b37b_c0b8831fbd2erow1_col1\" class=\"data row1 col1\" >3130.010010</td>\n",
       "            </tr>\n",
       "            <tr>\n",
       "                        <th id=\"T_fac9b2c6_f05e_11ea_b37b_c0b8831fbd2elevel0_row2\" class=\"row_heading level0 row2\" >2020-07-06 00:00:00</th>\n",
       "                        <td id=\"T_fac9b2c6_f05e_11ea_b37b_c0b8831fbd2erow2_col0\" class=\"data row2 col0\" >3155.290039</td>\n",
       "                        <td id=\"T_fac9b2c6_f05e_11ea_b37b_c0b8831fbd2erow2_col1\" class=\"data row2 col1\" >3179.719971</td>\n",
       "            </tr>\n",
       "            <tr>\n",
       "                        <th id=\"T_fac9b2c6_f05e_11ea_b37b_c0b8831fbd2elevel0_row3\" class=\"row_heading level0 row3\" >2020-07-07 00:00:00</th>\n",
       "                        <td id=\"T_fac9b2c6_f05e_11ea_b37b_c0b8831fbd2erow3_col0\" class=\"data row3 col0\" >3166.439941</td>\n",
       "                        <td id=\"T_fac9b2c6_f05e_11ea_b37b_c0b8831fbd2erow3_col1\" class=\"data row3 col1\" >3145.320068</td>\n",
       "            </tr>\n",
       "            <tr>\n",
       "                        <th id=\"T_fac9b2c6_f05e_11ea_b37b_c0b8831fbd2elevel0_row4\" class=\"row_heading level0 row4\" >2020-07-08 00:00:00</th>\n",
       "                        <td id=\"T_fac9b2c6_f05e_11ea_b37b_c0b8831fbd2erow4_col0\" class=\"data row4 col0\" >3153.070068</td>\n",
       "                        <td id=\"T_fac9b2c6_f05e_11ea_b37b_c0b8831fbd2erow4_col1\" class=\"data row4 col1\" >3169.939941</td>\n",
       "            </tr>\n",
       "            <tr>\n",
       "                        <th id=\"T_fac9b2c6_f05e_11ea_b37b_c0b8831fbd2elevel0_row5\" class=\"row_heading level0 row5\" >2020-07-09 00:00:00</th>\n",
       "                        <td id=\"T_fac9b2c6_f05e_11ea_b37b_c0b8831fbd2erow5_col0\" class=\"data row5 col0\" >3176.169922</td>\n",
       "                        <td id=\"T_fac9b2c6_f05e_11ea_b37b_c0b8831fbd2erow5_col1\" class=\"data row5 col1\" >3152.050049</td>\n",
       "            </tr>\n",
       "            <tr>\n",
       "                        <th id=\"T_fac9b2c6_f05e_11ea_b37b_c0b8831fbd2elevel0_row6\" class=\"row_heading level0 row6\" >2020-07-10 00:00:00</th>\n",
       "                        <td id=\"T_fac9b2c6_f05e_11ea_b37b_c0b8831fbd2erow6_col0\" class=\"data row6 col0\" >3152.469971</td>\n",
       "                        <td id=\"T_fac9b2c6_f05e_11ea_b37b_c0b8831fbd2erow6_col1\" class=\"data row6 col1\" >3185.040039</td>\n",
       "            </tr>\n",
       "    </tbody></table>"
      ]
     },
     "metadata": {},
     "output_type": "display_data"
    }
   ],
   "source": [
    "fwd = example.shift(1)\n",
    "sidetable(fwd,raw)"
   ]
  },
  {
   "cell_type": "markdown",
   "metadata": {},
   "source": [
    "### Rolling time periods"
   ]
  },
  {
   "cell_type": "code",
   "execution_count": 52,
   "metadata": {},
   "outputs": [
    {
     "data": {
      "text/plain": [
       "Date\n",
       "2015-09-01    1913.849976\n",
       "2015-09-02    1948.859985\n",
       "2015-09-03    1951.130005\n",
       "2015-09-04    1921.219971\n",
       "2015-09-08    1969.410034\n",
       "2015-09-09    1942.040039\n",
       "2015-09-10    1952.290039\n",
       "2015-09-11    1961.050049\n",
       "2015-09-14    1953.030029\n",
       "2015-09-15    1978.089966\n",
       "2015-09-16    1995.310059\n",
       "2015-09-17    1990.199951\n",
       "2015-09-18    1958.030029\n",
       "2015-09-21    1966.969971\n",
       "2015-09-22    1942.739990\n",
       "2015-09-23    1938.760010\n",
       "2015-09-24    1932.239990\n",
       "2015-09-25    1931.339966\n",
       "2015-09-28    1881.770020\n",
       "2015-09-29    1884.089966\n",
       "2015-09-30    1920.030029\n",
       "2015-10-01    1923.819946\n",
       "2015-10-02    1951.359985\n",
       "2015-10-05    1987.050049\n",
       "2015-10-06    1979.920044\n",
       "2015-10-07    1995.829956\n",
       "2015-10-08    2013.430054\n",
       "2015-10-09    2014.890015\n",
       "2015-10-12    2017.459961\n",
       "2015-10-13    2003.689941\n",
       "2015-10-14    1994.239990\n",
       "2015-10-15    2023.859985\n",
       "2015-10-16    2033.109985\n",
       "2015-10-19    2033.660034\n",
       "2015-10-20    2030.770020\n",
       "Name: Close, dtype: float64"
      ]
     },
     "execution_count": 52,
     "metadata": {},
     "output_type": "execute_result"
    }
   ],
   "source": [
    "# Back to the full data set\n",
    "\n",
    "sp['Close'].head(35)"
   ]
  },
  {
   "cell_type": "code",
   "execution_count": 54,
   "metadata": {},
   "outputs": [
    {
     "data": {
      "text/plain": [
       "Date\n",
       "2015-09-01            NaN\n",
       "2015-09-02            NaN\n",
       "2015-09-03            NaN\n",
       "2015-09-04            NaN\n",
       "2015-09-08    1940.893994\n",
       "2015-09-09    1946.532007\n",
       "2015-09-10    1947.218018\n",
       "2015-09-11    1949.202026\n",
       "2015-09-14    1955.564038\n",
       "2015-09-15    1957.300024\n",
       "2015-09-16    1967.954028\n",
       "2015-09-17    1975.536011\n",
       "2015-09-18    1974.932007\n",
       "2015-09-21    1977.719995\n",
       "2015-09-22    1970.650000\n",
       "2015-09-23    1959.339990\n",
       "2015-09-24    1947.747998\n",
       "2015-09-25    1942.409985\n",
       "2015-09-28    1925.369995\n",
       "2015-09-29    1913.639990\n",
       "2015-09-30    1909.893994\n",
       "2015-10-01    1908.209985\n",
       "2015-10-02    1912.213989\n",
       "2015-10-05    1933.269995\n",
       "2015-10-06    1952.436011\n",
       "2015-10-07    1967.595996\n",
       "2015-10-08    1985.518018\n",
       "2015-10-09    1998.224024\n",
       "2015-10-12    2004.306006\n",
       "2015-10-13    2009.059985\n",
       "2015-10-14    2008.741992\n",
       "2015-10-15    2010.827978\n",
       "2015-10-16    2014.471972\n",
       "2015-10-19    2017.711987\n",
       "2015-10-20    2023.128003\n",
       "Name: Close, dtype: float64"
      ]
     },
     "execution_count": 54,
     "metadata": {},
     "output_type": "execute_result"
    }
   ],
   "source": [
    "rolled = sp.rolling(window=5).mean()['Close']\n",
    "rolled.head(35)"
   ]
  },
  {
   "cell_type": "code",
   "execution_count": 59,
   "metadata": {},
   "outputs": [
    {
     "data": {
      "text/plain": [
       "<matplotlib.axes._subplots.AxesSubplot at 0x1cc38ffd408>"
      ]
     },
     "execution_count": 59,
     "metadata": {},
     "output_type": "execute_result"
    },
    {
     "data": {
      "image/png": "[encoded data removed]",
      "text/plain": [
       "<Figure size 1152x432 with 1 Axes>"
      ]
     },
     "metadata": {
      "needs_background": "light"
     },
     "output_type": "display_data"
    }
   ],
   "source": [
    "sp.rolling(window=1).mean()['Open'].plot(figsize=(16, 6))"
   ]
  },
  {
   "cell_type": "code",
   "execution_count": null,
   "metadata": {},
   "outputs": [],
   "source": []
  }
 ],
 "metadata": {
  "kernelspec": {
   "display_name": "Python 3 (ipykernel)",
   "language": "python",
   "name": "python3"
  },
  "language_info": {
   "codemirror_mode": {
    "name": "ipython",
    "version": 3
   },
   "file_extension": ".py",
   "mimetype": "text/x-python",
   "name": "python",
   "nbconvert_exporter": "python",
   "pygments_lexer": "ipython3",
   "version": "3.11.4"
  }
 },
 "nbformat": 4,
 "nbformat_minor": 4
}
